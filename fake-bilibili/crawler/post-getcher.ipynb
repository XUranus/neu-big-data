{
 "cells": [
  {
   "cell_type": "code",
   "execution_count": 22,
   "metadata": {},
   "outputs": [],
   "source": [
    "import requests\n",
    "import re\n",
    "import json\n",
    "\n",
    "prog = re.compile(r\"pic:(.*?)\")\n",
    "\n",
    "def fetch_post(aid):\n",
    "    url = 'https://m.bilibili.com/video/av'+aid+'.html'\n",
    "    headers = {'User-Agent':'Mozilla/5.0 (iPhone; CPU iPhone OS 8_0 like Mac OS X) AppleWebKit/600.1.3 (KHTML, like Gecko) Version/8.0 Mobile/12A4345d Safari/600.1.4'}\n",
    "    content = requests.get(url=url,headers=headers).text\n",
    "   # print(content)\n",
    "    result = prog.match(content)\n",
    "    print(result)\n"
   ]
  },
  {
   "cell_type": "code",
   "execution_count": 23,
   "metadata": {},
   "outputs": [
    {
     "name": "stdout",
     "output_type": "stream",
     "text": [
      "None\n"
     ]
    }
   ],
   "source": [
    "if __name__ == \"__main__\":\n",
    "    fetch_post('45212')"
   ]
  },
  {
   "cell_type": "code",
   "execution_count": null,
   "metadata": {},
   "outputs": [],
   "source": [
    "$contents = curl('https://m.bilibili.com/video/' . $avNum . '.html');\n",
    "    preg_match(\"~\\\"pic\\\":\\\"(.*?)\\\"~\", $contents, $matches);\n",
    "    if (count($matches) == 0) {\n",
    "        echo '没有找到相应的图片，请换个 av 号试一下。';\n",
    "        exit;\n",
    "    }\n",
    "    $img = file_get_contents($matches[1]);\n",
    "    file_put_contents('default.png', $img);\n",
    "    echo '<img src=\"default.png\">';\n",
    "}"
   ]
  }
 ],
 "metadata": {
  "kernelspec": {
   "display_name": "Python 3",
   "language": "python",
   "name": "python3"
  },
  "language_info": {
   "codemirror_mode": {
    "name": "ipython",
    "version": 3
   },
   "file_extension": ".py",
   "mimetype": "text/x-python",
   "name": "python",
   "nbconvert_exporter": "python",
   "pygments_lexer": "ipython3",
   "version": "3.7.3"
  }
 },
 "nbformat": 4,
 "nbformat_minor": 2
}
